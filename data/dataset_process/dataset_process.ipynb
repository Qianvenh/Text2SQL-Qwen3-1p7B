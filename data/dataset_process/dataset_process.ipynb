{
 "cells": [
  {
   "cell_type": "code",
   "execution_count": 12,
   "id": "0e5fb43c",
   "metadata": {},
   "outputs": [
    {
     "name": "stdout",
     "output_type": "stream",
     "text": [
      "What is the total volume of timber sold by each salesperson, sorted by salesperson?\n",
      "CREATE TABLE salesperson (salesperson_id INT, name TEXT, region TEXT); INSERT INTO salesperson (salesperson_id, name, region) VALUES (1, 'John Doe', 'North'), (2, 'Jane Smith', 'South'); CREATE TABLE timber_sales (sales_id INT, salesperson_id INT, volume REAL, sale_date DATE); INSERT INTO timber_sales (sales_id, salesperson_id, volume, sale_date) VALUES (1, 1, 120, '2021-01-01'), (2, 1, 150, '2021-02-01'), (3, 2, 180, '2021-01-01');\n",
      "SELECT salesperson_id, name, SUM(volume) as total_volume FROM timber_sales JOIN salesperson ON timber_sales.salesperson_id = salesperson.salesperson_id GROUP BY salesperson_id, name ORDER BY total_volume DESC;\n",
      "<class 'pandas.core.frame.DataFrame'>\n",
      "RangeIndex: 126641 entries, 0 to 126640\n",
      "Data columns (total 3 columns):\n",
      " #   Column   Non-Null Count   Dtype \n",
      "---  ------   --------------   ----- \n",
      " 0   prompt   126641 non-null  object\n",
      " 1   context  126641 non-null  object\n",
      " 2   answer   126641 non-null  object\n",
      "dtypes: object(3)\n",
      "memory usage: 2.9+ MB\n"
     ]
    }
   ],
   "source": [
    "import pandas as pd\n",
    "\n",
    "df = pd.read_parquet('./train-00000-of-00001.parquet',engine='pyarrow')\n",
    "\n",
    "print(df.loc[0, 'prompt'])\n",
    "print(df.loc[0, 'context'])\n",
    "print(df.loc[0, 'answer'])\n",
    "\n",
    "df.info()\n"
   ]
  },
  {
   "cell_type": "code",
   "execution_count": 13,
   "id": "b767b16a",
   "metadata": {},
   "outputs": [
    {
     "name": "stdout",
     "output_type": "stream",
     "text": [
      "126285 examples are added to train set.\n",
      "356 questions are already in the val dataset.\n"
     ]
    }
   ],
   "source": [
    "import json\n",
    "import ijson\n",
    "\n",
    "question_set = {}\n",
    "instruction_set = set()\n",
    "with open('./dev_sql.json', 'rt') as f:\n",
    "\tfor item in ijson.items(f, 'item'):\n",
    "\t\tquestion_set[item['input'].strip()] = item['output'].strip()\n",
    "\t\tinstruction_set.add(item['instruction'].strip())\n",
    "\n",
    "\n",
    "output = []\n",
    "system_prompt = \"Given the database schema and the user question, generate the corresponding SQL query.\"\n",
    "sql_prompt_template = \"\"\"\\[SCHEMA]\n",
    "{schema}\n",
    "\\[QUESTION]\n",
    "{question}\n",
    "\"\"\"\n",
    "\n",
    "cnt = 0\n",
    "for item in df.iterrows():\n",
    "\tif item[1]['prompt'].strip() in question_set:\n",
    "\t\tcnt += 1\n",
    "\t\tcontinue\n",
    "\toutput.append({\n",
    "\t\t'conversations': [\n",
    "\t\t\t{\n",
    "\t\t\t\t'from': 'user',\n",
    "\t\t\t\t'value': sql_prompt_template.format(schema=item[1]['context'], question=item[1]['prompt'])\n",
    "\t\t\t},\n",
    "\t\t\t{\n",
    "\t\t\t\t'from': 'assistant',\n",
    "\t\t\t\t'value': item[1]['answer']\n",
    "\t\t\t}\n",
    "\t\t],\n",
    "\t\t'system': system_prompt\n",
    "\t})\n",
    "\n",
    "with open('../text2sql.json', 'w') as f:\n",
    "\tjson.dump(output, f, indent=2)\n",
    "\n",
    "print(f'{len(output)} examples are added to train set.')\n",
    "print(f'{cnt} questions are already in the val dataset.')\n"
   ]
  },
  {
   "cell_type": "code",
   "execution_count": 14,
   "id": "1ea4014d",
   "metadata": {},
   "outputs": [
    {
     "name": "stdout",
     "output_type": "stream",
     "text": [
      "1034\n",
      "145\n"
     ]
    }
   ],
   "source": [
    "print(len(question_set))\n",
    "print(len(instruction_set))\n"
   ]
  }
 ],
 "metadata": {
  "kernelspec": {
   "display_name": "llamafactory",
   "language": "python",
   "name": "python3"
  },
  "language_info": {
   "codemirror_mode": {
    "name": "ipython",
    "version": 3
   },
   "file_extension": ".py",
   "mimetype": "text/x-python",
   "name": "python",
   "nbconvert_exporter": "python",
   "pygments_lexer": "ipython3",
   "version": "3.11.13"
  }
 },
 "nbformat": 4,
 "nbformat_minor": 5
}
